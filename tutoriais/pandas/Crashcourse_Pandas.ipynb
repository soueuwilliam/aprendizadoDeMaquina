{
  "cells": [
    {
      "cell_type": "markdown",
      "metadata": {
        "colab_type": "text",
        "id": "view-in-github"
      },
      "source": [
        "<a href=\"https://colab.research.google.com/github/soueuwilliam/aprendizadoDeMaquina/blob/main/tutoriais/Crashcourse_Pandas.ipynb\" target=\"_parent\"><img src=\"https://colab.research.google.com/assets/colab-badge.svg\" alt=\"Open In Colab\"/></a>"
      ]
    },
    {
      "cell_type": "markdown",
      "metadata": {
        "id": "OUi0YihI7Bc1"
      },
      "source": [
        "# Introdução\n",
        "\n",
        " A biblioteca [Pandas](https://pandas.pydata.org/docs/index.html) é uma ferramenta de análise e manipulação de dados em Python. Ela oferece estruturas de dados poderosas e flexíveis para facilitar o trabalho com dados tabulares e séries temporais.\n",
        "\n",
        "Graças à sua sintaxe simples e eficiente, o Pandas é amplamente utilizado em ciência de dados, análise financeira, bioinformática, engenharia e muitas outras áreas onde o trabalho com dados é essencial.\n",
        "\n",
        "O pandas fornece dois tipos de classes para gerenciamento de dados:\n",
        "\n",
        "- Series: uma matriz unidimensional rotulada contendo dados de qualquer tipo\n",
        "como inteiros, strings, objetos Python etc.\n",
        "- DataFrame: uma estrutura de dados bidimensional que contém dados como uma matriz bidimensional ou uma tabela com linhas e colunas.\n",
        "\n",
        "O DataFrame, que é essencialmente uma tabela bidimensional com linhas e colunas rotuladas, permite que você realize operações de forma eficiente em grandes conjuntos de dados, incluindo seleção, filtragem, agregação, limpeza, transformação e visualização de dados.\n",
        "\n",
        "Vale dizer que o Pandas é construído sobre o [NumPy](https://numpy.org/) e estende suas funcionalidades, fornecendo estruturas de dados de alto nível e ferramentas para análise de dados. Então, ao trabalhar com dados, muitas vezes você usará tanto Pandas quanto NumPy juntos, aproveitando as vantagens de ambas as bibliotecas para análise e manipulação de dados.\n",
        "\n",
        "Além disso, o Pandas possui integração direta com [Matplotlib](https://matplotlib.org/), o que facilita a visualização de dados armazenados em estruturas de dados do Pandas.\n",
        "\n",
        "Dessa forma, o Pandas fornece métodos convenientes para criar gráficos diretamente a partir de objetos DataFrame e Series usando Matplotlib. Isso simplifica o processo de criação de visualizações a partir de dados Pandas, eliminando a necessidade de escrever código adicional para preparar os dados para plotagem."
      ]
    },
    {
      "cell_type": "markdown",
      "metadata": {
        "id": "O21g95fHS70h"
      },
      "source": [
        "# Importar o Pandas\n",
        "\n",
        "Para utilizar os recursos do Pandas é necessário realizar a importação. Em geral, para facilitar, é adicionado um _alias_ no pacote.\n",
        "\n",
        "Vamos aproveitar também para importar o Numpy e o Matplotlib, também usando um _alias_."
      ]
    },
    {
      "cell_type": "code",
      "execution_count": null,
      "metadata": {
        "id": "UEJOBaVTTK_J"
      },
      "outputs": [],
      "source": [
        "import pandas as pd\n",
        "import numpy as np\n",
        "import matplotlib.pyplot as plt"
      ]
    },
    {
      "cell_type": "markdown",
      "metadata": {
        "id": "-PtO6qb_tNjz"
      },
      "source": [
        "# Criando DataFrames\n",
        "\n",
        "Existem algumas maneiras para criar um DataFrame no Pandas. Além da ideia de utilizar Nympy arrays ou Series para preencher um DataFrame, vamos ver algumas outras maneiras nas próximas seções."
      ]
    },
    {
      "cell_type": "markdown",
      "metadata": {
        "id": "TJGfCR_HtQnv"
      },
      "source": [
        "## Lista de Dicionários\n",
        "\n",
        "A partir de uma lista de dicionários, conseguimos preencher um DataFrame por linhas, em que cada entrada da lista se transforma em uma nova linha do DataFrame."
      ]
    },
    {
      "cell_type": "code",
      "execution_count": null,
      "metadata": {
        "colab": {
          "base_uri": "https://localhost:8080/",
          "height": 111
        },
        "id": "u4X3JwqRG34o",
        "outputId": "1d2b106d-3cdd-4b10-84cf-2770ac905dea"
      },
      "outputs": [],
      "source": [
        "list_of_dicts = [\n",
        "    {\"name\": \"Ginger\", \"breed\": \"Dachshund\", \"height_cm\": 22, \"weight_kg\": 10, \"date_of_birth\": \"2019-03-14\"},\n",
        "    {\"name\": \"Scout\", \"breed\": \"Dalmatian\", \"height_cm\": 59, \"weight_kg\": 25, \"date_of_birth\": \"2019-05-09\"}\n",
        "    ]\n",
        "df = pd.DataFrame(list_of_dicts)\n",
        "df"
      ]
    },
    {
      "cell_type": "markdown",
      "metadata": {
        "id": "zIuZNiYztWcq"
      },
      "source": [
        "## Dicionário de listas\n",
        "\n",
        "Uma outra abordagem é preencher o DataFrame coluna por coluna. Para isso, podemos utilizar um dicionário de listas."
      ]
    },
    {
      "cell_type": "code",
      "execution_count": null,
      "metadata": {
        "colab": {
          "base_uri": "https://localhost:8080/",
          "height": 111
        },
        "id": "HRA5rj_kHXhS",
        "outputId": "d3512673-7516-4787-a5d5-e01e65a9efe8"
      },
      "outputs": [],
      "source": [
        "dict_of_lists = {\n",
        "    \"name\": [\"Ginger\", \"Scout\"],\n",
        "    \"breed\": [\"Dachshund\", \"Dalmatian\"],\n",
        "    \"height_cm\": [22, 59],\n",
        "    \"weight_kg\": [10, 25],\n",
        "    \"date_of_birth\": [\"2019-03-14\", \"2019-05-09\"]\n",
        "    }\n",
        "df = pd.DataFrame(dict_of_lists)\n",
        "df"
      ]
    },
    {
      "cell_type": "markdown",
      "metadata": {
        "id": "pEo9iJ9uvDF4"
      },
      "source": [
        "# Importando e exportando dados\n",
        "\n",
        "Em muitas situações (talvez, a maioria), os dados a serem analisados estão armazenados em fontes externas. O Pandas possui um amplo conjunto de métodos para fazer a leitura e escrita de arquivos em formatos específicos. Uma lista completa dos formatos pode ser vista [aqui](https://pandas.pydata.org/docs/user_guide/io.html).\n",
        "\n",
        "Para fins de exemplificação, vamos trabalhar com um formato bastante comum, o CSV."
      ]
    },
    {
      "cell_type": "markdown",
      "metadata": {
        "id": "V6cwnfYkIzq2"
      },
      "source": [
        "Para a maior parte deste Notebooke, vamos usar uma base de dados com informações sobre salário para cargos na área de Ciência de Dados. Os dados foram coletados nesse [repostório no Kaggle](https://www.kaggle.com/datasets/ruchi798/data-science-job-salaries).\n",
        "\n",
        "Primeiro, vamos trazer para o ambiente do Google Colab um conjunto de dados."
      ]
    },
    {
      "cell_type": "code",
      "execution_count": null,
      "metadata": {
        "colab": {
          "base_uri": "https://localhost:8080/"
        },
        "id": "TnmglteK69dE",
        "outputId": "3e53e705-3434-4121-d99b-8d3f25534713"
      },
      "outputs": [],
      "source": [
        "!wget https://raw.githubusercontent.com/danielsabino/IMD1101-AM-2024.1/main/data/ds_salaries.csv"
      ]
    },
    {
      "cell_type": "markdown",
      "metadata": {
        "id": "xREttWK1I7ab"
      },
      "source": [
        "Agora, para fazer preencher um DataFrame com os referidos dados, basta usar o método `.read_csv()`."
      ]
    },
    {
      "cell_type": "code",
      "execution_count": null,
      "metadata": {
        "id": "WtoRyXzYI517"
      },
      "outputs": [],
      "source": [
        "df = pd.read_csv('ds_salaries.csv')"
      ]
    },
    {
      "cell_type": "markdown",
      "metadata": {
        "id": "hapyick_JG7f"
      },
      "source": [
        "De maneira semalhante, se quisermos salvar o conteúdo de DataFrame em um arquivo CSV, basta usar o método `.to_csv()`."
      ]
    },
    {
      "cell_type": "code",
      "execution_count": null,
      "metadata": {
        "id": "TwI8sZjXJOH1"
      },
      "outputs": [],
      "source": [
        "df.to_csv('arquivo.csv')"
      ]
    },
    {
      "cell_type": "markdown",
      "metadata": {
        "id": "XgbF7vnT7uIU"
      },
      "source": [
        "# Métodos e atributos básicos\n",
        "\n",
        "Assim que uma base de dados é carregada, a primeira coisa a fazer é explorar e verificar o que contém nela. Alguns métodos podem ser usados para obter algumas informações úteis:\n",
        "\n",
        "- `head()`: retorna as primeiras linhas da dataframe - bom para ver exemplos de valores que estão armazenados;\n",
        "- `tail()`: retorna as últimas linhas da dataframe - bom para ver exemplos de valores que estão armazenados;\n",
        "- `info()`: mostra informações para cada coluna, como o tipo de cada uma delas e a quantidade de valores faltosos;\n",
        "- `describe()`: traz algumas estatísticas básicas para cada coluna;\n",
        "- `shape`: mostra a quantidade de linhas e colunas do dataframe."
      ]
    },
    {
      "cell_type": "code",
      "execution_count": null,
      "metadata": {
        "colab": {
          "base_uri": "https://localhost:8080/",
          "height": 360
        },
        "id": "aPd9Rjwp7y2Y",
        "outputId": "e10ae3fa-db3f-4b92-ea92-78cff28c37a4"
      },
      "outputs": [],
      "source": [
        "df.head()"
      ]
    },
    {
      "cell_type": "code",
      "execution_count": null,
      "metadata": {
        "colab": {
          "base_uri": "https://localhost:8080/",
          "height": 292
        },
        "id": "0yjW1At_J8_w",
        "outputId": "4512afd8-944b-450f-be5d-f16c7097087a"
      },
      "outputs": [],
      "source": [
        "df.tail()"
      ]
    },
    {
      "cell_type": "code",
      "execution_count": null,
      "metadata": {
        "colab": {
          "base_uri": "https://localhost:8080/"
        },
        "id": "_cX_7wcvTdi3",
        "outputId": "5c68ccf6-c313-4104-f19d-5a5092b12f4c"
      },
      "outputs": [],
      "source": [
        "df.info()"
      ]
    },
    {
      "cell_type": "code",
      "execution_count": null,
      "metadata": {
        "colab": {
          "base_uri": "https://localhost:8080/",
          "height": 297
        },
        "id": "nziqTUoQTgQ1",
        "outputId": "d90a43f1-9dd2-4196-90a1-b321dd906b3c"
      },
      "outputs": [],
      "source": [
        "df.describe()"
      ]
    },
    {
      "cell_type": "code",
      "execution_count": null,
      "metadata": {
        "colab": {
          "base_uri": "https://localhost:8080/"
        },
        "id": "F0EtzjNFTiOW",
        "outputId": "7fd2105c-4171-44cd-d184-0d271e4644a5"
      },
      "outputs": [],
      "source": [
        "df.shape"
      ]
    },
    {
      "cell_type": "markdown",
      "metadata": {
        "id": "ulrTvw2K8UzO"
      },
      "source": [
        "# Estrutura de um DataFrame\n",
        "\n",
        "Para melhor entender um objeto do tipo DataFrame, é importante entender que eles são compostos de três componentes básicos, que podem ser acessados por meio dos seguintes atributos:\n",
        "\n",
        "- `values`: um array NumPy bidimensional com os valores armazenados no DataFrame;\n",
        "- `columns`: um índice com os nomes das colunas;\n",
        "- `index`: um índice para as linhas - podem ser números ou nomes.\n",
        "\n",
        "PS: um índice é um tipo de dados do Pandas (`index`), que pode ser enxergado como uma lista de strings ou números."
      ]
    },
    {
      "cell_type": "code",
      "execution_count": null,
      "metadata": {
        "colab": {
          "base_uri": "https://localhost:8080/"
        },
        "id": "5iUBajez71lc",
        "outputId": "7a32f807-2a3f-45db-8235-be95eb71340c"
      },
      "outputs": [],
      "source": [
        "df.values"
      ]
    },
    {
      "cell_type": "code",
      "execution_count": null,
      "metadata": {
        "colab": {
          "base_uri": "https://localhost:8080/"
        },
        "id": "01aNzDaoTn3y",
        "outputId": "cfd7c8ac-3bc8-42a0-b0cd-062fdd36732b"
      },
      "outputs": [],
      "source": [
        "df.columns"
      ]
    },
    {
      "cell_type": "code",
      "execution_count": null,
      "metadata": {
        "colab": {
          "base_uri": "https://localhost:8080/"
        },
        "id": "9wUKcPSXTpzQ",
        "outputId": "94365309-4273-4958-a826-b701079ed938"
      },
      "outputs": [],
      "source": [
        "df.index"
      ]
    },
    {
      "cell_type": "markdown",
      "metadata": {
        "id": "n_doWmDuAJp8"
      },
      "source": [
        "# Ordenando e selecionando"
      ]
    },
    {
      "cell_type": "markdown",
      "metadata": {
        "id": "qJuatGez_AzG"
      },
      "source": [
        "## Ordenando linhas\n",
        "\n",
        "Um opção interessante para analisar os dados é realizar a ordenação a partir de uma coluna específica. Para isso, podemos usar o método `sort_values()`."
      ]
    },
    {
      "cell_type": "code",
      "execution_count": null,
      "metadata": {
        "colab": {
          "base_uri": "https://localhost:8080/",
          "height": 626
        },
        "id": "g47jr-l8_CO0",
        "outputId": "6bef6fc9-9812-41d1-bbf6-82013efff2d4"
      },
      "outputs": [],
      "source": [
        "df.sort_values('work_year')"
      ]
    },
    {
      "cell_type": "markdown",
      "metadata": {
        "id": "5m9uOrSp_qkW"
      },
      "source": [
        " Você pode configurar o parâmetro `ascending` para indicar se quer o dado ordenado de forma crescente ou descrescente."
      ]
    },
    {
      "cell_type": "code",
      "execution_count": null,
      "metadata": {
        "colab": {
          "base_uri": "https://localhost:8080/",
          "height": 609
        },
        "id": "jNHPtT6H_rp7",
        "outputId": "c0b3fab7-f4c8-4a9b-a531-4be7b408579d"
      },
      "outputs": [],
      "source": [
        "df.sort_values('salary', ascending=False)"
      ]
    },
    {
      "cell_type": "markdown",
      "metadata": {
        "id": "S7XraktL_r9S"
      },
      "source": [
        "Também é possível passar uma lista de colunas para fazer uma ordenação múltipla (de acordo com a ordem informada na lista). A extensão também é válida para o parâmetro de ordenação."
      ]
    },
    {
      "cell_type": "code",
      "execution_count": null,
      "metadata": {
        "colab": {
          "base_uri": "https://localhost:8080/",
          "height": 609
        },
        "id": "qyHSKLuq_zpx",
        "outputId": "45fa50fe-6d1a-413a-b332-c95af0eaa19b"
      },
      "outputs": [],
      "source": [
        "df.sort_values(['salary', 'experience_level'], ascending=[False, True])"
      ]
    },
    {
      "cell_type": "markdown",
      "metadata": {
        "id": "hmBJK9uSAHaH"
      },
      "source": [
        "## Selecionando colunas\n",
        "\n",
        "As vezes, pode ser útil focar em uma única coluna do conjunto de dados. Com o Pandas, é fácil fazer isso. Basta utilizar o operador de seleção `[]` informando uma lista de colunas que se deseja mostrar."
      ]
    },
    {
      "cell_type": "code",
      "execution_count": null,
      "metadata": {
        "colab": {
          "base_uri": "https://localhost:8080/"
        },
        "id": "mSPKBYVWAISL",
        "outputId": "8ae446f6-e83a-44b8-8df8-ee72b384660d"
      },
      "outputs": [],
      "source": [
        "df['employee_residence']"
      ]
    },
    {
      "cell_type": "code",
      "execution_count": null,
      "metadata": {
        "colab": {
          "base_uri": "https://localhost:8080/",
          "height": 419
        },
        "id": "8Kfk77dOAkoQ",
        "outputId": "3d791b6e-55bc-4d0e-ba5c-f35c1af1695a"
      },
      "outputs": [],
      "source": [
        "df[['employee_residence','company_location']]"
      ]
    },
    {
      "cell_type": "markdown",
      "metadata": {
        "id": "itIa65bPAxVK"
      },
      "source": [
        "## Selecionando linhas\n",
        "\n",
        "Da mesma forma que podemos selecionar colunas, podemos também escolher somente algumas linhas para mostrar. Existem múltiplas maneiras de fazer isso.\n",
        "\n",
        "A primeira é utilizar uma condição específica para obter somente as linhas cuja condição é atendida (a condição pode estar relacionada a uma coluna). Por exemplo, se quisermos obter saber quais cargos possuem salário maior que 100.000, basta fazer o seguinte:"
      ]
    },
    {
      "cell_type": "code",
      "execution_count": null,
      "metadata": {
        "colab": {
          "base_uri": "https://localhost:8080/"
        },
        "id": "9W4uxnrhAyL-",
        "outputId": "582f7665-e14d-43be-984a-a68b818a8d2e"
      },
      "outputs": [],
      "source": [
        "df['salary'] > 100000"
      ]
    },
    {
      "cell_type": "markdown",
      "metadata": {
        "id": "8N5Z04KjBenL"
      },
      "source": [
        "Usamos o resultado dessa condição dentro como valor de indexação para acessar somente as linhas desejadas."
      ]
    },
    {
      "cell_type": "code",
      "execution_count": null,
      "metadata": {
        "colab": {
          "base_uri": "https://localhost:8080/",
          "height": 643
        },
        "id": "Y-opQTYLBNdL",
        "outputId": "4f4099ba-a2e1-4fed-afda-8e7265a561d1"
      },
      "outputs": [],
      "source": [
        "df[df['salary'] > 100000]"
      ]
    },
    {
      "cell_type": "markdown",
      "metadata": {
        "id": "QAiaeu0_Bsol"
      },
      "source": [
        "As operações podem ser feitas facilmente não só com números mas com outros tipos de dados, como strings e datas."
      ]
    },
    {
      "cell_type": "code",
      "execution_count": null,
      "metadata": {
        "colab": {
          "base_uri": "https://localhost:8080/",
          "height": 643
        },
        "id": "PIi6zdL5Bxwm",
        "outputId": "8c6d9d8a-f615-43b8-ff06-122747146233"
      },
      "outputs": [],
      "source": [
        "df[df['company_size'] == 'L']"
      ]
    },
    {
      "cell_type": "markdown",
      "metadata": {
        "id": "jEsnbhvxB5SN"
      },
      "source": [
        "A seleção baseada em múltiplas condições deve ser acompanhada de operadores lógicos. Os operadores mais comuns são:\n",
        "\n",
        "`&`: operador and;\n",
        "`|`: operador or;\n",
        "`~`: operador not.\n",
        "\n",
        "Para facilitar a leitura, podemos atribuir as condições à variáveis específicas de forma separadas e utilizar essas variáveis como índices para seleção."
      ]
    },
    {
      "cell_type": "code",
      "execution_count": null,
      "metadata": {
        "colab": {
          "base_uri": "https://localhost:8080/",
          "height": 609
        },
        "id": "ChPNFGcbB-0z",
        "outputId": "1017d0c2-9a28-468c-9f15-595936ede22b"
      },
      "outputs": [],
      "source": [
        "data_scientists = df['job_title'] == 'Data Scientist'\n",
        "good_salaries = df['salary'] > 100000\n",
        "df[data_scientists & good_salaries]"
      ]
    },
    {
      "cell_type": "markdown",
      "metadata": {
        "id": "GtOmGlNYChDS"
      },
      "source": [
        "Se for agregar todo o código em uma só linha, o opreador de parênteses deve ser usado para separar as condições"
      ]
    },
    {
      "cell_type": "code",
      "execution_count": null,
      "metadata": {
        "colab": {
          "base_uri": "https://localhost:8080/",
          "height": 609
        },
        "id": "yAmeKckUB-Qm",
        "outputId": "08ab7d5e-0830-42c8-f955-d282f5596695"
      },
      "outputs": [],
      "source": [
        "df[(df['job_title'] == 'Data Scientist') & (df['salary'] > 100000)]"
      ]
    },
    {
      "cell_type": "markdown",
      "metadata": {
        "id": "9VY3Jcn1C7b_"
      },
      "source": [
        "Para colunas do tipo categórico, é possível utilizar o método `isin()` informando uma lista de valores."
      ]
    },
    {
      "cell_type": "code",
      "execution_count": null,
      "metadata": {
        "colab": {
          "base_uri": "https://localhost:8080/",
          "height": 1000
        },
        "id": "PjYo-QCBDCOS",
        "outputId": "d9f0537c-bd4e-4423-e767-c73618e6246b"
      },
      "outputs": [],
      "source": [
        "df[df['salary_currency'].isin(['BRL','GBP'])]"
      ]
    },
    {
      "cell_type": "markdown",
      "metadata": {
        "id": "2g7TJUY2exME"
      },
      "source": [
        "# Adicionando colunas\n",
        "\n",
        "Para criar uma nova coluna no DataFrame, basta fazer uma referência dentro do operador `[]` atribuindo valores.\n",
        "\n",
        "Vamos supor que desejamos adicionar uma coluna de salário mensal no nosso dataset."
      ]
    },
    {
      "cell_type": "code",
      "execution_count": null,
      "metadata": {
        "colab": {
          "base_uri": "https://localhost:8080/",
          "height": 360
        },
        "id": "kvV6i1EjezNy",
        "outputId": "921edc97-e51a-43c0-a1b0-f0e751676b7e"
      },
      "outputs": [],
      "source": [
        "df['montly_salary'] = df['salary_in_usd'] / 12\n",
        "df.head()"
      ]
    },
    {
      "cell_type": "markdown",
      "metadata": {
        "id": "s1ZbD05HiEko"
      },
      "source": [
        "Podemos combinar as habilidades de ordenar, selecionar linhas e colunas, e adicionar novas colunas.\n",
        "\n",
        "Por exemplo, se quisermos responder a pergunta: qual os melhores valores de hora de trabalho o cargo de Cientista de Dados que trabalha em uma empresa dos Estados Unidos?\n",
        "\n",
        "PS: vamos considerar 160 horas de trabalho por mês para fins de exemplificação."
      ]
    },
    {
      "cell_type": "code",
      "execution_count": null,
      "metadata": {
        "colab": {
          "base_uri": "https://localhost:8080/",
          "height": 411
        },
        "id": "MmZKpnnggDDN",
        "outputId": "b67406b7-7927-43ec-f126-c02010b2e299"
      },
      "outputs": [],
      "source": [
        "df_ds_usa = df[(df['job_title'] == 'Data Scientist') & (df['company_location'] == 'US')]\n",
        "df_ds_usa['hour_value'] = df_ds_usa['montly_salary'] / 160\n",
        "df_ds_usa.sort_values('hour_value', ascending=False).head()"
      ]
    },
    {
      "cell_type": "markdown",
      "metadata": {
        "id": "hygK7Nd4mE-Q"
      },
      "source": [
        "# Estatísticas sumarizadas\n",
        "\n",
        "Já usamos o método describe para obter algumas estatísticas sobre os dados. Podemos de forma individual, obter algumas dessas estatísticas também.\n",
        "\n"
      ]
    },
    {
      "cell_type": "code",
      "execution_count": null,
      "metadata": {
        "colab": {
          "base_uri": "https://localhost:8080/"
        },
        "id": "DkniVHFZmQ0O",
        "outputId": "08c80975-4e79-4017-c7be-21d6820977d3"
      },
      "outputs": [],
      "source": [
        "df['salary_in_usd'].mean()"
      ]
    },
    {
      "cell_type": "code",
      "execution_count": null,
      "metadata": {
        "colab": {
          "base_uri": "https://localhost:8080/"
        },
        "id": "setkGaxXmcGC",
        "outputId": "02613aea-89f5-4f75-eab8-ca0dd05b60e1"
      },
      "outputs": [],
      "source": [
        "df['salary_in_usd'].median()"
      ]
    },
    {
      "cell_type": "code",
      "execution_count": null,
      "metadata": {
        "colab": {
          "base_uri": "https://localhost:8080/"
        },
        "id": "BGdHt-rWmhgP",
        "outputId": "c7748641-040d-4248-ddaf-2d603a9a2267"
      },
      "outputs": [],
      "source": [
        "df['salary_currency'].mode()"
      ]
    },
    {
      "cell_type": "code",
      "execution_count": null,
      "metadata": {
        "colab": {
          "base_uri": "https://localhost:8080/"
        },
        "id": "lXBN0Kt5mmW_",
        "outputId": "7a46982d-7c0a-4c62-df08-8fab977571ad"
      },
      "outputs": [],
      "source": [
        "df['salary_in_usd'].min()"
      ]
    },
    {
      "cell_type": "code",
      "execution_count": null,
      "metadata": {
        "colab": {
          "base_uri": "https://localhost:8080/"
        },
        "id": "rRcrpqzVmrXl",
        "outputId": "b18de922-6152-4f6a-9ad2-c880968d4fb1"
      },
      "outputs": [],
      "source": [
        "df['salary_in_usd'].max()"
      ]
    },
    {
      "cell_type": "code",
      "execution_count": null,
      "metadata": {
        "colab": {
          "base_uri": "https://localhost:8080/"
        },
        "id": "ojQ6RclnmsV2",
        "outputId": "d517035b-4fcb-4e3a-f5e2-ed4a619e7e90"
      },
      "outputs": [],
      "source": [
        "df['salary_in_usd'].var()"
      ]
    },
    {
      "cell_type": "code",
      "execution_count": null,
      "metadata": {
        "colab": {
          "base_uri": "https://localhost:8080/"
        },
        "id": "sAYSC183muAl",
        "outputId": "376c0d50-3f24-4a67-989f-02fd4f79246e"
      },
      "outputs": [],
      "source": [
        "df['salary_in_usd'].std()"
      ]
    },
    {
      "cell_type": "code",
      "execution_count": null,
      "metadata": {
        "colab": {
          "base_uri": "https://localhost:8080/"
        },
        "id": "ddggyF0umu4q",
        "outputId": "37b9f7f7-8293-4c02-b3f9-e9c57c08f5cd"
      },
      "outputs": [],
      "source": [
        "df['salary_in_usd'].quantile(q = 0.4)"
      ]
    },
    {
      "cell_type": "code",
      "execution_count": null,
      "metadata": {
        "colab": {
          "base_uri": "https://localhost:8080/"
        },
        "id": "fCCej01FofZq",
        "outputId": "7a6cb466-844f-4a0f-d738-8fb4908f3829"
      },
      "outputs": [],
      "source": [
        "df['salary_in_usd'].cumsum()"
      ]
    },
    {
      "cell_type": "markdown",
      "metadata": {
        "id": "0E_Bdd9tnnqf"
      },
      "source": [
        "A função `agg()` agrega funções definidas pelo usuário para extrair uma ou múltiplas estatísticas ao mesmo tempo."
      ]
    },
    {
      "cell_type": "code",
      "execution_count": null,
      "metadata": {
        "id": "uHanVRgGnAJH"
      },
      "outputs": [],
      "source": [
        "# Define o percentil 30 de uma coluna\n",
        "def pct30(column):\n",
        "  return column.quantile(0.3)\n",
        "\n",
        "# Define o percentil 40 de uma coluna\n",
        "def pct40(column):\n",
        "  return column.quantile(0.4)\n",
        "\n",
        "def iqr(column):\n",
        "  return column.quantile(0.75) - column.quantile(0.25)"
      ]
    },
    {
      "cell_type": "code",
      "execution_count": null,
      "metadata": {
        "colab": {
          "base_uri": "https://localhost:8080/"
        },
        "id": "OCccQgPXnGh_",
        "outputId": "741657d6-c311-487e-841d-384f30ed0b33"
      },
      "outputs": [],
      "source": [
        "print(df['salary_in_usd'].agg([pct30, pct40]))"
      ]
    },
    {
      "cell_type": "code",
      "execution_count": null,
      "metadata": {
        "colab": {
          "base_uri": "https://localhost:8080/"
        },
        "id": "4lU2yJjOqwah",
        "outputId": "88bb6f5d-ffea-4dc7-ebff-4e30c499c9c5"
      },
      "outputs": [],
      "source": [
        "print(df[['salary_in_usd','montly_salary']].agg([iqr, np.median]))"
      ]
    },
    {
      "cell_type": "markdown",
      "metadata": {
        "id": "4cRfMx9u-2Sh"
      },
      "source": [
        "## Contagem\n",
        "\n",
        "Para trabalhar com dados categóricos, podemos realizar a contagem de determinados valores de atributos. Para isso, vamos usar o método `value_counts()`."
      ]
    },
    {
      "cell_type": "code",
      "execution_count": null,
      "metadata": {
        "colab": {
          "base_uri": "https://localhost:8080/"
        },
        "id": "2kSB75I-q1Ao",
        "outputId": "7749d328-cc87-4dc0-dcaa-300936a1333c"
      },
      "outputs": [],
      "source": [
        "df['job_title'].value_counts()"
      ]
    },
    {
      "cell_type": "markdown",
      "metadata": {
        "id": "wMdcaO6s_hXK"
      },
      "source": [
        "Esse método aceita o parâmetro `normalize` para mostrar a proporção de cada categoria."
      ]
    },
    {
      "cell_type": "code",
      "execution_count": null,
      "metadata": {
        "colab": {
          "base_uri": "https://localhost:8080/"
        },
        "id": "slgpdUvb_Wtv",
        "outputId": "8ccef7d6-0e1e-477a-9d65-09f3c4252d31"
      },
      "outputs": [],
      "source": [
        "df['job_title'].value_counts(normalize=True)"
      ]
    },
    {
      "cell_type": "markdown",
      "metadata": {
        "id": "FsBhUboaC8mE"
      },
      "source": [
        "Podemos filtrar o dataset, por exemplo, para considerar somente os 5 cargos com mais pessoas. Sabemos que os cargos são:\n",
        "- Data Scientist,\n",
        "- Data Engineer,\n",
        "- Data Analyst\n",
        "- Machine Learning Engineer\n",
        "- Research Scientist\n",
        "\n",
        "Isso pode ser confirmado obtendo os primeiros 5 índices retornados pelo método `.value_counts()`."
      ]
    },
    {
      "cell_type": "code",
      "execution_count": null,
      "metadata": {
        "colab": {
          "base_uri": "https://localhost:8080/"
        },
        "id": "I91B3ZFZQEpO",
        "outputId": "2820c8b3-cc1a-4ff4-c590-f6712d16d3a0"
      },
      "outputs": [],
      "source": [
        "df['job_title'].value_counts().index[:5]"
      ]
    },
    {
      "cell_type": "markdown",
      "metadata": {
        "id": "RfBvQANcRCIl"
      },
      "source": [
        "Basta, então, filtrar as linhas por cargos que estão nessa lista."
      ]
    },
    {
      "cell_type": "code",
      "execution_count": null,
      "metadata": {
        "id": "Mh4sLM4QPhQP"
      },
      "outputs": [],
      "source": [
        "top5 = df['job_title'].value_counts().index[:5]\n",
        "df = df[df['job_title'].isin(top5)]"
      ]
    },
    {
      "cell_type": "markdown",
      "metadata": {
        "id": "Shv-FB5uBxn4"
      },
      "source": [
        "# Agrupamento\n",
        "\n",
        "Você pode agrupar estatísticas sobre os porções semelhantes dos dados para ter uma visão mais ampla.\n",
        "\n",
        "O método `groupby()` agrupa os dados de um atributos cujos valores são iguais."
      ]
    },
    {
      "cell_type": "code",
      "execution_count": null,
      "metadata": {
        "colab": {
          "base_uri": "https://localhost:8080/"
        },
        "id": "_wDBcHx5F929",
        "outputId": "34285788-d132-4cea-8f97-bda20eda90d9"
      },
      "outputs": [],
      "source": [
        "df.groupby('job_title')['salary_in_usd']"
      ]
    },
    {
      "cell_type": "markdown",
      "metadata": {
        "id": "SlK4iVVXGGDp"
      },
      "source": [
        "O objeto gerado não traz muita informação útil diretamente. Mas, você pode usar esse recurso para calcular algumas estatísticas.\n",
        "\n",
        "Por exemplo, saber qual a média salarial por cargo."
      ]
    },
    {
      "cell_type": "code",
      "execution_count": null,
      "metadata": {
        "colab": {
          "base_uri": "https://localhost:8080/"
        },
        "id": "C1fYOmJ9_xfv",
        "outputId": "d6c5c288-843c-41b4-e6dd-bbc4c57e84f0"
      },
      "outputs": [],
      "source": [
        "df.groupby('job_title')['salary_in_usd'].mean()"
      ]
    },
    {
      "cell_type": "markdown",
      "metadata": {
        "id": "euuy9NFlCgX0"
      },
      "source": [
        "Podemos associar esse método com o `agg` para obter múltiplas estatísticas ao mesmo tempo."
      ]
    },
    {
      "cell_type": "code",
      "execution_count": null,
      "metadata": {
        "colab": {
          "base_uri": "https://localhost:8080/",
          "height": 235
        },
        "id": "IViFzFWRCXE1",
        "outputId": "0f4f1083-08c3-4814-fc36-943f4a252f73"
      },
      "outputs": [],
      "source": [
        "df.groupby('job_title')['salary_in_usd'].agg([np.min,np.max,np.mean,np.median])"
      ]
    },
    {
      "cell_type": "markdown",
      "metadata": {
        "id": "irrVKLy9EZbj"
      },
      "source": [
        "É possível agrupar por mais de um atributo."
      ]
    },
    {
      "cell_type": "code",
      "execution_count": null,
      "metadata": {
        "colab": {
          "base_uri": "https://localhost:8080/",
          "height": 607
        },
        "id": "bD_GkexNCrrh",
        "outputId": "4d489068-8670-4a0a-be31-b5c5a8b468cb"
      },
      "outputs": [],
      "source": [
        "df.groupby(['job_title', 'experience_level'])['salary_in_usd'].agg([np.min,np.max,np.mean,np.median])"
      ]
    },
    {
      "cell_type": "markdown",
      "metadata": {
        "id": "y8snq96jE8MZ"
      },
      "source": [
        "# `drop_duplicates()`\n",
        "\n",
        "O Pandas oferece uma maneira fácil de remover entradas duplicadas no conjunto de dados por meio do método `drop_duplicates()`."
      ]
    },
    {
      "cell_type": "code",
      "execution_count": null,
      "metadata": {
        "colab": {
          "base_uri": "https://localhost:8080/",
          "height": 626
        },
        "id": "G_wef8xTE-qj",
        "outputId": "dc1646f5-cbda-4f12-adc5-a5316d396cf7"
      },
      "outputs": [],
      "source": [
        "df.drop_duplicates()"
      ]
    },
    {
      "cell_type": "markdown",
      "metadata": {
        "id": "UYAb7T4UjYHz"
      },
      "source": [
        "Como não foi especificado parâmetros, o método elimina as linhas que possuem todas as colunas com valores exatamente iguais. Nesse caso, não haviam dados duplicados.\n",
        "\n",
        "Mas, podemos especificar as colunas que queremos utilizar para fazer essa comparação. Podemos, por exemplo, remover entradas que tenham o mesmo:\n",
        "\n",
        "- `work_year`;\n",
        "- `experience_level`;\n",
        "- `employment_type`;\n",
        "- `job_title`\n",
        "- `salary_in_usd`\n",
        "- `company_location`\n"
      ]
    },
    {
      "cell_type": "code",
      "execution_count": null,
      "metadata": {
        "colab": {
          "base_uri": "https://localhost:8080/",
          "height": 609
        },
        "id": "g-P0bigXkQEC",
        "outputId": "c3b4af53-0533-4498-8e4a-bc8718687688"
      },
      "outputs": [],
      "source": [
        "df = df.drop_duplicates(subset=['work_year', 'experience_level', 'employment_type', 'job_title', 'salary_in_usd', 'company_location'])\n",
        "df"
      ]
    },
    {
      "cell_type": "markdown",
      "metadata": {
        "id": "3BRWx8xaIP8m"
      },
      "source": [
        "Note que foram removidas 58 linhas com entradas duplicadas nas colunas especificadas."
      ]
    },
    {
      "cell_type": "markdown",
      "metadata": {
        "id": "jB9WLnGgR3ZO"
      },
      "source": [
        "# Pivot Tables\n",
        "\n",
        "Existe uma outra maneira de agrupar valores. Você pode criar tabelas dinâmicas indicando quais colunas deseja agrupar valores. Para isso, será utilizado o método `pivot_tables()`.\n",
        "\n",
        "Esse método recebe como parâmetros os valores (`values`) que serão agrupados e a coluna pela qual tais valores serão agrupados (`index`). Por padrão, é mostrado a média dos valores agrupados."
      ]
    },
    {
      "cell_type": "code",
      "execution_count": null,
      "metadata": {
        "colab": {
          "base_uri": "https://localhost:8080/",
          "height": 235
        },
        "id": "pANP-CY5R4YC",
        "outputId": "e88b9d74-932a-42d6-c415-eccb02c57498"
      },
      "outputs": [],
      "source": [
        "df.pivot_table(values='salary_in_usd', index='job_title')"
      ]
    },
    {
      "cell_type": "markdown",
      "metadata": {
        "id": "cS8NRzgYStr8"
      },
      "source": [
        "Outras medidas, no entanto, podem ser utilizadas para mostrar valores agrupados. Basta informar no parâmetro `aggfunc`. Por exemplo, se quisermos mostrar a mediana ao invés da média, basta fazer:"
      ]
    },
    {
      "cell_type": "code",
      "execution_count": null,
      "metadata": {
        "colab": {
          "base_uri": "https://localhost:8080/",
          "height": 235
        },
        "id": "uBE8dYfuSgxe",
        "outputId": "34f5b118-ef73-4cad-a791-9822ea520f90"
      },
      "outputs": [],
      "source": [
        "df.pivot_table(values='salary_in_usd', index='job_title', aggfunc=np.median)"
      ]
    },
    {
      "cell_type": "markdown",
      "metadata": {
        "id": "xzRYz9LxTONq"
      },
      "source": [
        "Um uso interessante de tabelas dinâmicas é utilizar duas variáveis para agrupar valores. Dessa forma, é possível fazer um cruzamento de informações.\n",
        "\n",
        "Por exemplo, podemos querer saber a média salarial por nível de experiência (semelhante ao que foi feito usando o groupby."
      ]
    },
    {
      "cell_type": "code",
      "execution_count": null,
      "metadata": {
        "colab": {
          "base_uri": "https://localhost:8080/",
          "height": 235
        },
        "id": "w6E6n3zPTANu",
        "outputId": "119c6032-c201-489f-c9cb-c1bd3f9e09f8"
      },
      "outputs": [],
      "source": [
        "df.pivot_table(values='salary_in_usd', index='job_title', columns='experience_level')"
      ]
    },
    {
      "cell_type": "markdown",
      "metadata": {
        "id": "AsFLJ-e1T-ni"
      },
      "source": [
        "Os valores `Nan` acontecem porque não existem alguns valores associados às linhas ou colunas. Podemos incluir um valor para entrar como padrão caso isso aconteça.\n",
        "\n",
        "Também é possível incluir uma linha e coluna resumo."
      ]
    },
    {
      "cell_type": "code",
      "execution_count": null,
      "metadata": {
        "colab": {
          "base_uri": "https://localhost:8080/",
          "height": 266
        },
        "id": "wlveM0ubT7nv",
        "outputId": "2abe6285-b429-4fc0-d4a4-8535ccbedbbf"
      },
      "outputs": [],
      "source": [
        "df.pivot_table(values='salary_in_usd', index='job_title', columns='experience_level', fill_value=0, margins=True)"
      ]
    },
    {
      "cell_type": "markdown",
      "metadata": {
        "id": "vzrjDH-5m2js"
      },
      "source": [
        "# Indexação Explícita\n",
        "\n",
        "Como já foi visto antes, cada DataFrame possui um índice para cada linha. Esse índice pode ser utilizado para fazer uma indexação explícita e obter um subconjunto de linhas do dataset.\n",
        "\n",
        "Para obter a lista de índices, basta analisar o atributo `index`."
      ]
    },
    {
      "cell_type": "code",
      "execution_count": null,
      "metadata": {
        "colab": {
          "base_uri": "https://localhost:8080/"
        },
        "id": "vaWemoJGUWkv",
        "outputId": "46956e84-14d2-41f7-d935-e901aff98bc5"
      },
      "outputs": [],
      "source": [
        "df.index"
      ]
    },
    {
      "cell_type": "markdown",
      "metadata": {
        "id": "qpqs4Y0OoB8_"
      },
      "source": [
        "Nesse caso, os índices são números inteiros. Mas, você pode configurar colunas para serem os índices do DataFrame. Para isso, basta usar o método `set_index` e especificar a(s) coluna(s) a ser(em) utilizada(s) como índice.\n",
        "\n",
        "Vale salientar que esse método não altera o DataFrame e você precisa atribuir a um novo objeto ou configurar o parâmetro `inplace` para que as alterações tenham efeito."
      ]
    },
    {
      "cell_type": "code",
      "execution_count": null,
      "metadata": {
        "id": "Pea84fogn_tH"
      },
      "outputs": [],
      "source": [
        "df.set_index('job_title', inplace=True)"
      ]
    },
    {
      "cell_type": "markdown",
      "metadata": {
        "id": "RArNDIp_ouWe"
      },
      "source": [
        "Com base nisso, é possível referenciar linhas do DataFrame por meio do operador `.loc[]`. Ele aceita valores de índices para selecionar as linhas de acordo com o valor especificado para o índice."
      ]
    },
    {
      "cell_type": "code",
      "execution_count": null,
      "metadata": {
        "colab": {
          "base_uri": "https://localhost:8080/",
          "height": 640
        },
        "id": "7_YmkPN8okBn",
        "outputId": "d8aeadbf-d84d-4ddb-e90b-f772e0cbd963"
      },
      "outputs": [],
      "source": [
        "df.loc['Data Scientist']"
      ]
    },
    {
      "cell_type": "markdown",
      "metadata": {
        "id": "L8ZEjbGfyeP5"
      },
      "source": [
        "Podemos ainda fazer a ordenação do DataFrame com base nos valores dos índices. Basta usarmos o método `.sort_index()."
      ]
    },
    {
      "cell_type": "code",
      "execution_count": null,
      "metadata": {
        "colab": {
          "base_uri": "https://localhost:8080/",
          "height": 425
        },
        "id": "J4sgTg5zy07N",
        "outputId": "ea7a6d22-dcb8-431b-92ee-2272042dbf37"
      },
      "outputs": [],
      "source": [
        "df.sort_index(inplace=True)\n",
        "df.head()"
      ]
    },
    {
      "cell_type": "markdown",
      "metadata": {
        "id": "jtUyRfSqrIL2"
      },
      "source": [
        "Você pode desfazer essa operação utilizando o método `reset_index()`. Essa reconfiguração pode ainda ser feita descartando os valores que estavam sendo utilizados como índice ou não por meio do parâmetro `drop` (o valor default é False).\n",
        "\n"
      ]
    },
    {
      "cell_type": "code",
      "execution_count": null,
      "metadata": {
        "colab": {
          "base_uri": "https://localhost:8080/",
          "height": 439
        },
        "id": "ICFIF3RlpOAr",
        "outputId": "8016a3a3-a1de-4efb-f598-77f42cf4f080"
      },
      "outputs": [],
      "source": [
        "df.reset_index(drop=True)"
      ]
    },
    {
      "cell_type": "markdown",
      "metadata": {
        "id": "hqSIzitDrr5m"
      },
      "source": [
        "Como queremos os dados referentes ao cargo, vamos fazer a alteração persistir no DataFrame, deixando esse dado."
      ]
    },
    {
      "cell_type": "code",
      "execution_count": null,
      "metadata": {
        "id": "esucn09LrR6u"
      },
      "outputs": [],
      "source": [
        "df.reset_index(drop=False, inplace=True)"
      ]
    },
    {
      "cell_type": "code",
      "execution_count": null,
      "metadata": {
        "colab": {
          "base_uri": "https://localhost:8080/",
          "height": 309
        },
        "id": "Vd5PdUXArTjj",
        "outputId": "f84f3109-997f-4d8f-97fa-1d1a61614813"
      },
      "outputs": [],
      "source": [
        "df.head()"
      ]
    },
    {
      "cell_type": "markdown",
      "metadata": {
        "id": "k9VwOeYuslgK"
      },
      "source": [
        "Vale dizer que esse tipo de indexação pode ser feita em múltiplos níveis, aninhando colunas. Por exemplo, podemos utilizar como índice a chave `job_title` e `experience_level`.\n",
        "\n",
        "Isso pode ser útil quando houver alguma relação de hierarquia ou dependência entre os dados. Por outro, pode ficar mais confuso gerenciar essa indexação.\n",
        "\n",
        "Para acessar os valores por meio do operador `.loc[]`, temos que passar a \"chave composta\" como uma tupla.\n",
        "\n",
        "_PS: Para fins de exemplificação, os resultados serão atribuídos a um outro DataFrame._"
      ]
    },
    {
      "cell_type": "code",
      "execution_count": null,
      "metadata": {
        "id": "SsI__JvPr3vB"
      },
      "outputs": [],
      "source": [
        "df_new = df.set_index(['job_title', 'experience_level'])"
      ]
    },
    {
      "cell_type": "code",
      "execution_count": null,
      "metadata": {
        "colab": {
          "base_uri": "https://localhost:8080/",
          "height": 1000
        },
        "id": "eY7kgHR_ttTC",
        "outputId": "ed4413b7-17b3-4aab-bd49-c3f16f1e7b59"
      },
      "outputs": [],
      "source": [
        "df_new.loc[('Data Scientist', 'SE')]"
      ]
    },
    {
      "cell_type": "markdown",
      "metadata": {
        "id": "dYcTUPhruBtm"
      },
      "source": [
        "Você pode passar mais de uma combinação para selecionar linhas."
      ]
    },
    {
      "cell_type": "code",
      "execution_count": null,
      "metadata": {
        "colab": {
          "base_uri": "https://localhost:8080/",
          "height": 470
        },
        "id": "kcsAYyVmt8Ww",
        "outputId": "65cd4621-6e5d-4bb7-f490-ba81c5ae630e"
      },
      "outputs": [],
      "source": [
        "jobs_exp = [('Data Analyst', 'MI'), ('Data Scientist', 'SE')]\n",
        "df_new.loc[jobs_exp]"
      ]
    },
    {
      "cell_type": "markdown",
      "metadata": {
        "id": "LZLyonitwc6k"
      },
      "source": [
        "## Fatiamento\n",
        "\n",
        "De forma semelhantes às listas, é possível fazer o fatiamento de um DataFrame para obter uma parte dele. A primeira maneira de fazer isso é utilizando o operador `.loc[]`. Basta passar o valor inicial do índice e o valor final (nesse caso, é incluído dentro da seleção)."
      ]
    },
    {
      "cell_type": "code",
      "execution_count": null,
      "metadata": {
        "colab": {
          "base_uri": "https://localhost:8080/",
          "height": 597
        },
        "id": "V5a97KvVuXOM",
        "outputId": "b4bc3133-703b-4837-cd06-673349881b26"
      },
      "outputs": [],
      "source": [
        "df.loc[0:10]"
      ]
    },
    {
      "cell_type": "markdown",
      "metadata": {
        "id": "GyjlUYvTxn3i"
      },
      "source": [
        "Veja que usamos o valor do índice para fazer o fatiamento. Se o índice fosse outro, poderíamos adotar a mesma abordagem.\n",
        "\n",
        "Vamos novamente considerar que o `job_title` é índice e fazer uma fatiamento com base nisso."
      ]
    },
    {
      "cell_type": "code",
      "execution_count": null,
      "metadata": {
        "colab": {
          "base_uri": "https://localhost:8080/",
          "height": 640
        },
        "id": "bKRpdM_FxWKq",
        "outputId": "3a5ede39-5e76-478f-a30d-2e82b584433c"
      },
      "outputs": [],
      "source": [
        "df_new = df.set_index('job_title')\n",
        "df_new.loc['Data Analyst':'Data Scientist']"
      ]
    },
    {
      "cell_type": "markdown",
      "metadata": {
        "id": "cIAC1osX0uWt"
      },
      "source": [
        "É possível também fazer o fatiamento de colunas passando um outro intervalo como segundo parâmetro do operador `.loc[]`."
      ]
    },
    {
      "cell_type": "code",
      "execution_count": null,
      "metadata": {
        "colab": {
          "base_uri": "https://localhost:8080/",
          "height": 450
        },
        "id": "aziT-_Et03ij",
        "outputId": "d122f241-ea22-4e76-af11-5aec6236a7df"
      },
      "outputs": [],
      "source": [
        "df_new.loc['Data Analyst':'Data Scientist', 'work_year':'salary']"
      ]
    },
    {
      "cell_type": "markdown",
      "metadata": {
        "id": "ht2It3OL3KWP"
      },
      "source": [
        "A outra maneira de fatiar o DataFrame é utilizar o operador `.iloc[]`. A diferença principal é que você não se refere necessariamente ao índice e deve especificar as posições de linhas e colunas do DataFrame.\n",
        "\n",
        "O funcionamento é ainda mais parecido com o fatiamento de listas. Aqui, o primeiro parâmetro seleciona as linhas e o segundo, as colunas. Se trabalharmos como o operador `:`, o último valor não é incluído na seleção.\n",
        "\n",
        "Então, para obter as 10 primeiras linhas das quinta e sexta colunas, devemos fazer:"
      ]
    },
    {
      "cell_type": "code",
      "execution_count": null,
      "metadata": {
        "colab": {
          "base_uri": "https://localhost:8080/",
          "height": 390
        },
        "id": "JybkOhFR0-RL",
        "outputId": "af3761b1-7652-4372-d286-fb24e16526e5"
      },
      "outputs": [],
      "source": [
        "df_new.iloc[:10, 4:6]"
      ]
    },
    {
      "cell_type": "markdown",
      "metadata": {
        "id": "qdXJU-ZQJYfj"
      },
      "source": [
        "# Visualização de Dados\n",
        "\n",
        "Como mencioando antes, o Pandas tem como uma das bases o `matplotlib`, uma biblioteca para visualizção de dados.\n",
        "\n",
        "Isso significa que mostrar os dados de um DataFrame em formato de gráfico é bastante simples. Vamos verificar algumas formas de fazer isso."
      ]
    },
    {
      "cell_type": "markdown",
      "metadata": {
        "id": "lI2cTe39hxN_"
      },
      "source": [
        "## Histograma"
      ]
    },
    {
      "cell_type": "code",
      "execution_count": null,
      "metadata": {
        "colab": {
          "base_uri": "https://localhost:8080/",
          "height": 430
        },
        "id": "a-Jf222c4GnU",
        "outputId": "0dcefd72-26a4-4654-df60-53d88889bc7d"
      },
      "outputs": [],
      "source": [
        "df['salary_in_usd'].hist()\n",
        "plt.show()"
      ]
    },
    {
      "cell_type": "markdown",
      "metadata": {
        "id": "BXXxxphXiaoF"
      },
      "source": [
        "Você pode ajustar a quantidade de intervalos em que os dados serão divididos usando o parâmetro `bins`."
      ]
    },
    {
      "cell_type": "code",
      "execution_count": null,
      "metadata": {
        "colab": {
          "base_uri": "https://localhost:8080/",
          "height": 430
        },
        "id": "7P0DEvR6h1fB",
        "outputId": "8c69f8f7-8aa5-485b-f7c2-33293e547c2c"
      },
      "outputs": [],
      "source": [
        "df['salary_in_usd'].hist(bins = 5)\n",
        "plt.show()"
      ]
    },
    {
      "cell_type": "markdown",
      "metadata": {
        "id": "NvLfP3tUisNh"
      },
      "source": [
        "## Barras\n",
        "\n",
        "Para escolher um tipo de gráfico, é possível utilizar o método `plot` e parâmetro `kind`.\n",
        "\n",
        "De fato, todos os tipos de gráfico podem ser feitos utilizando o método `.plot()`. A lista completa de gráficos possíveis pode ser vista [aqui](https://pandas.pydata.org/docs/user_guide/visualization.html) e incluem os seguintes tipos:\n",
        "\n",
        "- `bar` ou `barh` para gráficos de barra;\n",
        "- `hist` para histogramas;\n",
        "- `box` para boxplot;\n",
        "- `kde` ou `density` para densidade;\n",
        "- `area` para gráficos de área;\n",
        "- `scatter` para dispersão;\n",
        "- `hexbin` para mapas exagonais;\n",
        "- `pie` para gráficos de pizza.\n",
        "\n"
      ]
    },
    {
      "cell_type": "code",
      "execution_count": null,
      "metadata": {
        "colab": {
          "base_uri": "https://localhost:8080/",
          "height": 625
        },
        "id": "eccfuaFNiiQL",
        "outputId": "f41d65c1-31e4-4bd0-fc01-50469bf45f18"
      },
      "outputs": [],
      "source": [
        "avg_salary = df.groupby('job_title')['salary_in_usd'].mean()\n",
        "avg_salary.plot(kind='bar')\n",
        "plt.show()"
      ]
    },
    {
      "cell_type": "markdown",
      "metadata": {
        "id": "J8gRKX1qnUF6"
      },
      "source": [
        "## Pizza"
      ]
    },
    {
      "cell_type": "code",
      "execution_count": null,
      "metadata": {
        "colab": {
          "base_uri": "https://localhost:8080/",
          "height": 406
        },
        "id": "J5cfvmZvnZRz",
        "outputId": "fb1eccc4-70a6-4e07-ab6f-1586d85d8c1b"
      },
      "outputs": [],
      "source": [
        "df['job_title'].value_counts().plot(kind='pie')\n",
        "plt.show()"
      ]
    },
    {
      "cell_type": "markdown",
      "metadata": {
        "id": "5LcVmDwgntMB"
      },
      "source": [
        "Podemos adicionar outros elementos no gráfico, como título e legenda."
      ]
    },
    {
      "cell_type": "code",
      "execution_count": null,
      "metadata": {
        "colab": {
          "base_uri": "https://localhost:8080/"
        },
        "id": "NUJUQTinoQeR",
        "outputId": "d1aaba6f-ef09-4c21-b297-32b6aaf65f72"
      },
      "outputs": [],
      "source": [
        "df['job_title'].value_counts().index"
      ]
    },
    {
      "cell_type": "code",
      "execution_count": null,
      "metadata": {
        "colab": {
          "base_uri": "https://localhost:8080/",
          "height": 428
        },
        "id": "7W55TimhnxgX",
        "outputId": "f1a51d27-9525-49ef-e7da-0c44d2645e56"
      },
      "outputs": [],
      "source": [
        "df['job_title'].value_counts().plot(kind='pie', title='Média Salarial')\n",
        "plt.legend(df['job_title'].value_counts().index, loc='upper center', fontsize='small', ncols=5)\n",
        "plt.show()"
      ]
    },
    {
      "cell_type": "markdown",
      "metadata": {
        "id": "_om1W93Bp_Lv"
      },
      "source": [
        "# Valores faltosos\n",
        "\n",
        "Uma das tarefas mais importantes na análise de dados consiste em verificar se existem valores faltando no conjunto de dados.\n",
        "\n",
        "Para exemplificar um conjunto com dados faltosos, vamos fazer uma nova importação da mesma base, mas onde alguns valores da coluna 'salary_in_usd' foram aleatoriamente removidos."
      ]
    },
    {
      "cell_type": "code",
      "execution_count": null,
      "metadata": {
        "colab": {
          "base_uri": "https://localhost:8080/"
        },
        "id": "N3yEJWWJKn9m",
        "outputId": "c6065795-1f5c-4b05-d996-3435996488df"
      },
      "outputs": [],
      "source": [
        "!wget 'https://raw.githubusercontent.com/danielsabino/IMD1101-AM-2024.1/main/data/ds_salaries2.csv'"
      ]
    },
    {
      "cell_type": "code",
      "execution_count": null,
      "metadata": {
        "id": "cTnzrazTKvlZ"
      },
      "outputs": [],
      "source": [
        "df2 = pd.read_csv('ds_salaries2.csv', sep=';')"
      ]
    },
    {
      "cell_type": "markdown",
      "metadata": {
        "id": "6TyxBFlLqKFa"
      },
      "source": [
        "## `.isna()`\n",
        "\n",
        "Por meio do método `.isna()` conseguimos verificar para todos os campos da base se o dado está presente ou não."
      ]
    },
    {
      "cell_type": "code",
      "execution_count": null,
      "metadata": {
        "colab": {
          "base_uri": "https://localhost:8080/",
          "height": 456
        },
        "id": "CedWfdi8pKm8",
        "outputId": "c58bad27-fa2d-4d00-ca4a-1c662a59c3f6"
      },
      "outputs": [],
      "source": [
        "df2.isna()"
      ]
    },
    {
      "cell_type": "markdown",
      "metadata": {
        "id": "ebu6UzlcLi1T"
      },
      "source": [
        "No entato, quando a base se torna maior, essa visualização não é muito últil. Podemos usar o método `.any()` para avaliar se existe algum dados faltoso em cada coluna do DataFrame."
      ]
    },
    {
      "cell_type": "code",
      "execution_count": null,
      "metadata": {
        "colab": {
          "base_uri": "https://localhost:8080/"
        },
        "id": "o5xB6Zs6qss4",
        "outputId": "a84c0fe9-2e30-4ff6-d39f-e32bd8f1e1e6"
      },
      "outputs": [],
      "source": [
        "df2.isna().any()"
      ]
    },
    {
      "cell_type": "markdown",
      "metadata": {
        "id": "ycWMp6ZNLzWY"
      },
      "source": [
        "Podemos ainda saber a quantidade de valores faltosos nas colunas por meio do método `.sum()`."
      ]
    },
    {
      "cell_type": "code",
      "execution_count": null,
      "metadata": {
        "colab": {
          "base_uri": "https://localhost:8080/"
        },
        "id": "YK8_qhcFqvXz",
        "outputId": "d69ac117-e4b6-49c2-b23c-c2fb02829b03"
      },
      "outputs": [],
      "source": [
        "df2.isna().sum()"
      ]
    },
    {
      "cell_type": "markdown",
      "metadata": {
        "id": "BexoSvt4L9AC"
      },
      "source": [
        "Esse é um dado que pode ser visualizado."
      ]
    },
    {
      "cell_type": "code",
      "execution_count": null,
      "metadata": {
        "colab": {
          "base_uri": "https://localhost:8080/",
          "height": 559
        },
        "id": "-sKPlLd6qxoK",
        "outputId": "0385fbe0-8c98-4993-ee1f-34463313e2a2"
      },
      "outputs": [],
      "source": [
        "df2.isna().sum().plot(kind='bar')\n",
        "plt.show()"
      ]
    },
    {
      "cell_type": "markdown",
      "metadata": {
        "id": "R7iot33MMHkr"
      },
      "source": [
        "Para tratar esse problema, podemos usar algumas abordagens. As duas mais comuns são: remover as linhas que possuem algum dado faltando ou preencher os campos que estão com valores faltando."
      ]
    },
    {
      "cell_type": "markdown",
      "metadata": {
        "id": "LkW2buqYrD1A"
      },
      "source": [
        "## `.dropna()`\n",
        "\n",
        "Esse método simplesmente remove todas as linhas que possme valores faltando. Se não for especificado parâmetros, se alguma coluna tiver valores faltando, a linha é removida."
      ]
    },
    {
      "cell_type": "code",
      "execution_count": null,
      "metadata": {
        "colab": {
          "base_uri": "https://localhost:8080/",
          "height": 660
        },
        "id": "TE1z72eaq3Er",
        "outputId": "6ea08613-cb10-4592-d369-b0d14d1c6f20"
      },
      "outputs": [],
      "source": [
        "df2.dropna()"
      ]
    },
    {
      "cell_type": "markdown",
      "metadata": {
        "id": "DWCTlK9QMlpg"
      },
      "source": [
        "Mas, essa verificação pode ser feita considerando alguma(s) coluna(s) em específico."
      ]
    },
    {
      "cell_type": "code",
      "execution_count": null,
      "metadata": {
        "colab": {
          "base_uri": "https://localhost:8080/",
          "height": 660
        },
        "id": "e2WnVduDMrU0",
        "outputId": "25601d64-0997-4fe1-8db9-799ed8d565d2"
      },
      "outputs": [],
      "source": [
        "df2.dropna(subset=['work_year'])"
      ]
    },
    {
      "cell_type": "markdown",
      "metadata": {
        "id": "QkRStY2lM9vg"
      },
      "source": [
        "Nesse caso, como a coluna `work_year` possui todos valores para todas as linhas, nenhuma foi removida."
      ]
    },
    {
      "cell_type": "markdown",
      "metadata": {
        "id": "tAYowyuPrg8z"
      },
      "source": [
        "## `.fillna()`\n",
        "\n",
        "Uma outra forma de contornar o problema de dados faltosos é atribuir valores para preencher o campo. O método `.fillna` insere um valor pré-determinado toda vez que encontra um campo faltando dado. Podemos preencher, por exemplo, o campo com o valor 0."
      ]
    },
    {
      "cell_type": "code",
      "execution_count": null,
      "metadata": {
        "colab": {
          "base_uri": "https://localhost:8080/",
          "height": 660
        },
        "id": "p4Ht0S3WriRn",
        "outputId": "a4c76b84-df7d-40cc-c5b0-ecb95b42ff44"
      },
      "outputs": [],
      "source": [
        "df2.fillna(0)"
      ]
    },
    {
      "cell_type": "markdown",
      "metadata": {
        "id": "73Ic7LSSNlse"
      },
      "source": [
        "Ou podemos preencher com um valor central, como a mediana."
      ]
    },
    {
      "cell_type": "code",
      "execution_count": null,
      "metadata": {
        "id": "wk8MkOP_NV3n"
      },
      "outputs": [],
      "source": [
        "med = np.median(df2['salary_in_usd'])\n",
        "df2['salary_in_usd'].fillna('salary_in_usd', inplace=True)"
      ]
    },
    {
      "cell_type": "markdown",
      "metadata": {
        "id": "R-L5mT3mPqfq"
      },
      "source": [
        "Podemos verificar que não existem mais colunas com valores faltosos."
      ]
    },
    {
      "cell_type": "code",
      "execution_count": null,
      "metadata": {
        "colab": {
          "base_uri": "https://localhost:8080/"
        },
        "id": "OvyNGFHcNzW3",
        "outputId": "af27a680-892b-4f48-f309-b65a3611bd70"
      },
      "outputs": [],
      "source": [
        "df2.isna().sum()"
      ]
    }
  ],
  "metadata": {
    "colab": {
      "include_colab_link": true,
      "provenance": []
    },
    "kernelspec": {
      "display_name": "Python 3",
      "name": "python3"
    },
    "language_info": {
      "codemirror_mode": {
        "name": "ipython",
        "version": 3
      },
      "file_extension": ".py",
      "mimetype": "text/x-python",
      "name": "python",
      "nbconvert_exporter": "python",
      "pygments_lexer": "ipython3",
      "version": "3.10.12"
    }
  },
  "nbformat": 4,
  "nbformat_minor": 0
}
